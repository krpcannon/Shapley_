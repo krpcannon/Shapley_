{
 "cells": [
  {
   "cell_type": "code",
   "execution_count": 1,
   "id": "b8d390a3",
   "metadata": {},
   "outputs": [],
   "source": [
    "import matplotlib.pyplot as plt\n",
    "import networkx as nx"
   ]
  },
  {
   "cell_type": "code",
   "execution_count": 2,
   "id": "1666de75",
   "metadata": {},
   "outputs": [],
   "source": [
    "#Shapley value in simplified case when game is represented as an undirected graph.\n",
    "def ShapleyGraphSum(G):\n",
    "    \n",
    "    for i in G.nodes():\n",
    "        S = 0\n",
    "        wt = 0\n",
    "        for j in G.nodes():\n",
    "            \n",
    "            try:\n",
    "                wt = G.edges[i, j]['weight']\n",
    "                S += wt\n",
    "            except KeyError:\n",
    "                continue\n",
    "           \n",
    "           \n",
    "            print(i, j, S, wt)\n",
    "            \n",
    "        Shapley = S/2\n",
    "        print(i, Shapley)"
   ]
  },
  {
   "cell_type": "code",
   "execution_count": 3,
   "id": "ce6858e6",
   "metadata": {},
   "outputs": [],
   "source": [
    "#example"
   ]
  },
  {
   "cell_type": "code",
   "execution_count": 4,
   "id": "8aaaf0b7",
   "metadata": {},
   "outputs": [],
   "source": [
    "Gnew = nx.Graph()\n",
    "Gnew.add_edge(1, 2, weight = 3)\n",
    "Gnew.add_edge(2, 3, weight = 5)\n",
    "Gnew.add_edge(1, 3, weight = 7)\n",
    "Gnew.add_edge(1, 4, weight = 1)\n",
    "Gnew.add_edge(1, 5, weight = 2)"
   ]
  },
  {
   "cell_type": "code",
   "execution_count": 5,
   "id": "819524bc",
   "metadata": {},
   "outputs": [
    {
     "name": "stdout",
     "output_type": "stream",
     "text": [
      "1 2 3 3\n",
      "1 3 10 7\n",
      "1 4 11 1\n",
      "1 5 13 2\n",
      "1 6.5\n",
      "2 1 3 3\n",
      "2 3 8 5\n",
      "2 4.0\n",
      "3 1 7 7\n",
      "3 2 12 5\n",
      "3 6.0\n",
      "4 1 1 1\n",
      "4 0.5\n",
      "5 1 2 2\n",
      "5 1.0\n"
     ]
    }
   ],
   "source": [
    "ShapleyGraphSum(Gnew)"
   ]
  },
  {
   "cell_type": "code",
   "execution_count": null,
   "id": "56572e7e",
   "metadata": {},
   "outputs": [],
   "source": []
  }
 ],
 "metadata": {
  "kernelspec": {
   "display_name": "Python 3 (ipykernel)",
   "language": "python",
   "name": "python3"
  },
  "language_info": {
   "codemirror_mode": {
    "name": "ipython",
    "version": 3
   },
   "file_extension": ".py",
   "mimetype": "text/x-python",
   "name": "python",
   "nbconvert_exporter": "python",
   "pygments_lexer": "ipython3",
   "version": "3.7.13"
  }
 },
 "nbformat": 4,
 "nbformat_minor": 5
}
